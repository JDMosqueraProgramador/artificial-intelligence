{
  "nbformat": 4,
  "nbformat_minor": 0,
  "metadata": {
    "colab": {
      "provenance": []
    },
    "kernelspec": {
      "name": "python3",
      "display_name": "Python 3"
    },
    "language_info": {
      "name": "python"
    }
  },
  "cells": [
    {
      "cell_type": "markdown",
      "source": [
        "Realizar 3 redes neuronales con 5 capas ocultas, las cuales van a tener al menos 3 funciones de activación distintas. La idea es comparar el rendimiento de cada una de las 3 redes y dar explicaciones del por que de cada. Indicar la mejor encontrada.\n",
        "\n",
        "Desarrollo:\n",
        "El siguiente programa se encarga de predecir la calificación dada por el usuario utilizando deep learning y el siguiente dataset: https://www.kaggle.com/datasets/patkle/metacritic-scores-for-games-movies-tv-and-music (movies.csv)"
      ],
      "metadata": {
        "id": "gir7VdO22JaO"
      }
    },
    {
      "cell_type": "code",
      "execution_count": 100,
      "metadata": {
        "id": "xbqXVn2UX-jm"
      },
      "outputs": [],
      "source": [
        "import pandas as pd\n",
        "from sklearn.model_selection import train_test_split\n",
        "import tensorflow as tf\n",
        "from tensorflow.keras.models import Sequential\n",
        "from tensorflow.keras.layers import Dense\n",
        "from sklearn.metrics import mean_squared_error"
      ]
    },
    {
      "cell_type": "code",
      "execution_count": null,
      "metadata": {
        "id": "f5ZIPBz8LxOE"
      },
      "outputs": [],
      "source": [
        "games = pd.read_csv('./games.csv')\n",
        "games['user_score'] = pd.to_numeric(games['user_score'], errors='coerce')\n",
        "games = games.dropna(subset=['user_score'])\n",
        "games"
      ]
    },
    {
      "cell_type": "code",
      "source": [
        "feat_cols = ['metascore', 'sort_no']\n",
        "result_col = 'user_score'\n",
        "\n",
        "X = games[feat_cols]\n",
        "Y = games[result_col]\n"
      ],
      "metadata": {
        "id": "OBblhcbyoVNS"
      },
      "execution_count": 102,
      "outputs": []
    },
    {
      "cell_type": "code",
      "source": [
        "X_train, X_test, y_train, y_test = train_test_split(X, Y, test_size=0.2, random_state=42)\n",
        "y_train = pd.to_numeric(y_train, errors='coerce')\n",
        "y_test = pd.to_numeric(y_test, errors='coerce')"
      ],
      "metadata": {
        "id": "mT5GKBnqpplQ"
      },
      "execution_count": 103,
      "outputs": []
    },
    {
      "cell_type": "code",
      "source": [
        "activations = ['relu', 'sigmoid', 'tanh']"
      ],
      "metadata": {
        "id": "RRlDuZafp_70"
      },
      "execution_count": 104,
      "outputs": []
    },
    {
      "cell_type": "code",
      "source": [
        "models = {}\n",
        "performances = {}"
      ],
      "metadata": {
        "id": "4qCE6PRVqBYD"
      },
      "execution_count": 105,
      "outputs": []
    },
    {
      "cell_type": "code",
      "source": [
        "for activation in activations:\n",
        "    model = Sequential()\n",
        "\n",
        "    for _ in range(5):\n",
        "        model.add(Dense(units=64, activation=activation))\n",
        "\n",
        "    model.add(Dense(units=1, activation='linear'))\n",
        "    model.compile(optimizer='adam', loss='mean_squared_error')\n",
        "    model.fit(X_train, y_train, epochs=10, batch_size=32, verbose=0)\n",
        "\n",
        "    y_pred = model.predict(X_test)\n",
        "    mse = mean_squared_error(y_test, y_pred)\n",
        "\n",
        "    models[activation] = model\n",
        "    performances[activation] = mse\n",
        "    print(f'Model with {activation} activation - Mean Squared Error on test set: {mse}')\n"
      ],
      "metadata": {
        "id": "usTIrWcHqB-l"
      },
      "execution_count": null,
      "outputs": []
    },
    {
      "cell_type": "code",
      "source": [
        "best_activation = min(performances, key=performances.get)\n",
        "best_model = models[best_activation]"
      ],
      "metadata": {
        "id": "qtiDkPuLqM_U"
      },
      "execution_count": 108,
      "outputs": []
    },
    {
      "cell_type": "code",
      "source": [
        "print(f'\\nBest model found with {best_activation} activation - Mean Squared Error: {performances[best_activation]}')\n"
      ],
      "metadata": {
        "id": "B1HzKE36xhci"
      },
      "execution_count": null,
      "outputs": []
    }
  ]
}